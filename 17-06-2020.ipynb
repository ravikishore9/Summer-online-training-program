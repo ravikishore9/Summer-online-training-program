{
 "cells": [
  {
   "cell_type": "markdown",
   "metadata": {},
   "source": [
    "## types of methods\n",
    "- instance methods\n",
    "- class methods\n",
    "- static methods"
   ]
  },
  {
   "cell_type": "code",
   "execution_count": 13,
   "metadata": {},
   "outputs": [
    {
     "name": "stdout",
     "output_type": "stream",
     "text": [
      "60.29966666666667\n",
      "Apssdc\n",
      "This training about python\n"
     ]
    }
   ],
   "source": [
    "class Student:\n",
    "    college=\"Apssdc\"\n",
    "    def __init__(self,sm1,sm2,sm3):\n",
    "        self.sm1=sm1\n",
    "        self.sm2=sm2\n",
    "        self.sm3=sm3\n",
    "        \n",
    "    def avg(self):\n",
    "        return (self.sm1+self.sm2+self.sm3)/3\n",
    "    \n",
    "    @classmethod\n",
    "    def collegeinfo(c):\n",
    "        return c.college\n",
    "    @staticmethod\n",
    "    def info():\n",
    "        print(\"This training about python\")\n",
    "        \n",
    "s1=Student(45,56.999,78.9)\n",
    "\n",
    "s2=Student(87,67,98.5)\n",
    "\n",
    "print(s1.avg())\n",
    "print(Student.collegeinfo())\n",
    "Student.info()"
   ]
  },
  {
   "cell_type": "markdown",
   "metadata": {},
   "source": [
    "### Inherit\n",
    "- inherting the data from parent to child class\n",
    "- single inheritance\n",
    "- multi inhertance\n",
    "- multiple inheritance"
   ]
  },
  {
   "cell_type": "code",
   "execution_count": 29,
   "metadata": {},
   "outputs": [],
   "source": [
    "# single level inheeritance\n",
    "class A:\n",
    "    a,b=1,2\n",
    "    def display():\n",
    "        print(\"Iam from class A\")\n",
    "class B(A):\n",
    "    c,d=4,5\n",
    "    def show():\n",
    "        print(\"Iam from class B\")"
   ]
  },
  {
   "cell_type": "code",
   "execution_count": 28,
   "metadata": {
    "scrolled": true
   },
   "outputs": [
    {
     "name": "stdout",
     "output_type": "stream",
     "text": [
      "1\n",
      "Iam from class B\n",
      "Iam from class A\n"
     ]
    }
   ],
   "source": [
    "obj1=B\n",
    "\n",
    "print(obj1.a)\n",
    "obj1.show()\n",
    "obj1.display()"
   ]
  },
  {
   "cell_type": "code",
   "execution_count": 39,
   "metadata": {},
   "outputs": [],
   "source": [
    "class A:\n",
    "    def __init__(self,a,b):\n",
    "        self.a=a\n",
    "        self.b=b\n",
    "    def display(self):\n",
    "        print(\"From A\")\n",
    "class B(A):\n",
    "    def __init__(self,a,b,c):\n",
    "        self.c=c\n",
    "    def show(self):\n",
    "        print(\"From B\")"
   ]
  },
  {
   "cell_type": "code",
   "execution_count": 44,
   "metadata": {},
   "outputs": [],
   "source": [
    "ob1=B('a','b','c')"
   ]
  },
  {
   "cell_type": "code",
   "execution_count": 45,
   "metadata": {},
   "outputs": [
    {
     "name": "stdout",
     "output_type": "stream",
     "text": [
      "From A\n"
     ]
    }
   ],
   "source": [
    "ob1.display()"
   ]
  },
  {
   "cell_type": "code",
   "execution_count": 48,
   "metadata": {},
   "outputs": [],
   "source": [
    "## Multi level inheritance\n",
    "class A:\n",
    "    def classA():\n",
    "        print(\"I am from class A\")\n",
    "class B:\n",
    "    def classB():\n",
    "        print(\"Iam from class B\")\n",
    "class C(A,B):\n",
    "    def classC():\n",
    "        print(\"Iam from Class C\")"
   ]
  },
  {
   "cell_type": "code",
   "execution_count": 50,
   "metadata": {},
   "outputs": [
    {
     "name": "stdout",
     "output_type": "stream",
     "text": [
      "I am from class A\n",
      "Iam from class B\n",
      "Iam from Class C\n"
     ]
    }
   ],
   "source": [
    "ob1=C\n",
    "ob1.classA()\n",
    "ob1.classB()\n",
    "ob1.classC()"
   ]
  },
  {
   "cell_type": "code",
   "execution_count": 61,
   "metadata": {},
   "outputs": [],
   "source": [
    "class A:\n",
    "    def __init__(self):\n",
    "        print(\"A init\")\n",
    "    def f1(self):\n",
    "        print(\"f1 Method\")\n",
    "    def f2(self):\n",
    "        print(\"f2 Method\")\n",
    "class B(A):\n",
    "    def __init__(self):\n",
    "        super().__init__()\n",
    "        print(\"B init\")\n",
    "    def f1(self):\n",
    "        print(\"f1 Method\")\n",
    "    def f2(self):\n",
    "        print(\"f2 Method\")"
   ]
  },
  {
   "cell_type": "code",
   "execution_count": 62,
   "metadata": {},
   "outputs": [
    {
     "name": "stdout",
     "output_type": "stream",
     "text": [
      "A init\n",
      "B init\n",
      "f1 Method\n"
     ]
    }
   ],
   "source": [
    "ob1=B()\n",
    "ob1.f1()"
   ]
  },
  {
   "cell_type": "code",
   "execution_count": 106,
   "metadata": {},
   "outputs": [
    {
     "name": "stdout",
     "output_type": "stream",
     "text": [
      "A init\n",
      "B init\n",
      "f1 Method\n"
     ]
    }
   ],
   "source": [
    "# Method resolution order\n",
    "class A:\n",
    "    def __init__(self):\n",
    "        print(\"A init\")\n",
    "    def f1(self):\n",
    "        print(\"f1 Method\")\n",
    "    def f2(self):\n",
    "        print(\"f2 Method\")\n",
    "class B(A):\n",
    "    def __init__(self):\n",
    "        super().__init__()\n",
    "        print(\"B init\")\n",
    "    def f3(self):\n",
    "        print(\"f1 Method\")\n",
    "    def f4(self):\n",
    "        print(\"f2 Method\")\n",
    "class C(B):                     # Child class of  A & B\n",
    "    def __init__(self):\n",
    "        super().__init__()\n",
    "        print(\"C init\")\n",
    "    def fea(self):\n",
    "        super().f2()\n",
    "\n",
    "ob=C()\n",
    "ob.f3()\n"
   ]
  },
  {
   "cell_type": "code",
   "execution_count": null,
   "metadata": {},
   "outputs": [],
   "source": [
    "class A:\n",
    "    def __init__(self):\n",
    "        \n",
    "class B(A):\n",
    "    def __init__(self):\n",
    "\n",
    "class C(B):\n",
    "    def __init__(self):"
   ]
  },
  {
   "cell_type": "markdown",
   "metadata": {},
   "source": [
    "## Encapsulation\n",
    "\n",
    "- one of the most important principal in oops\n",
    "- why we are using encapsulation\n",
    "    - to prevent data being modified by accidentely\n",
    "- Access specifiers\n",
    "    - public\n",
    "    - private"
   ]
  },
  {
   "cell_type": "code",
   "execution_count": 76,
   "metadata": {},
   "outputs": [
    {
     "name": "stdout",
     "output_type": "stream",
     "text": [
      "10\n",
      "20\n"
     ]
    },
    {
     "ename": "AttributeError",
     "evalue": "'Hello' object has no attribute '__c'",
     "output_type": "error",
     "traceback": [
      "\u001b[1;31m---------------------------------------------------------------------------\u001b[0m",
      "\u001b[1;31mAttributeError\u001b[0m                            Traceback (most recent call last)",
      "\u001b[1;32m<ipython-input-76-bc4c0a94a093>\u001b[0m in \u001b[0;36m<module>\u001b[1;34m\u001b[0m\n\u001b[0;32m     12\u001b[0m \u001b[0mprint\u001b[0m\u001b[1;33m(\u001b[0m\u001b[0mhello\u001b[0m\u001b[1;33m.\u001b[0m\u001b[0ma\u001b[0m\u001b[1;33m)\u001b[0m\u001b[1;33m\u001b[0m\u001b[1;33m\u001b[0m\u001b[0m\n\u001b[0;32m     13\u001b[0m \u001b[0mprint\u001b[0m\u001b[1;33m(\u001b[0m\u001b[0mhello\u001b[0m\u001b[1;33m.\u001b[0m\u001b[0m_b\u001b[0m\u001b[1;33m)\u001b[0m\u001b[1;33m\u001b[0m\u001b[1;33m\u001b[0m\u001b[0m\n\u001b[1;32m---> 14\u001b[1;33m \u001b[0mprint\u001b[0m\u001b[1;33m(\u001b[0m\u001b[0mhello\u001b[0m\u001b[1;33m.\u001b[0m\u001b[0m__c\u001b[0m\u001b[1;33m)\u001b[0m\u001b[1;33m\u001b[0m\u001b[1;33m\u001b[0m\u001b[0m\n\u001b[0m",
      "\u001b[1;31mAttributeError\u001b[0m: 'Hello' object has no attribute '__c'"
     ]
    }
   ],
   "source": [
    "# how to declare private variables\n",
    "\n",
    "class Hello:\n",
    "    def __init__(self,name):\n",
    "        self.a=10 # public\n",
    "        self._b=20 #procted\n",
    "        self.__c=30 # private\n",
    "hello=Hello('name')\n",
    "\n",
    "#hello.__c=39\n",
    "\n",
    "print(hello.a)\n",
    "print(hello._b)\n",
    "print(hello.__c)"
   ]
  },
  {
   "cell_type": "code",
   "execution_count": 78,
   "metadata": {},
   "outputs": [
    {
     "name": "stdout",
     "output_type": "stream",
     "text": [
      "20\n",
      "10\n",
      "30\n",
      "public method\n"
     ]
    },
    {
     "ename": "AttributeError",
     "evalue": "'Hello' object has no attribute '__private_method'",
     "output_type": "error",
     "traceback": [
      "\u001b[1;31m---------------------------------------------------------------------------\u001b[0m",
      "\u001b[1;31mAttributeError\u001b[0m                            Traceback (most recent call last)",
      "\u001b[1;32m<ipython-input-78-adcc28d99305>\u001b[0m in \u001b[0;36m<module>\u001b[1;34m\u001b[0m\n\u001b[0;32m     14\u001b[0m \u001b[0mprint\u001b[0m\u001b[1;33m(\u001b[0m\u001b[0mhello\u001b[0m\u001b[1;33m.\u001b[0m\u001b[0m_b\u001b[0m\u001b[1;33m)\u001b[0m\u001b[1;33m\u001b[0m\u001b[1;33m\u001b[0m\u001b[0m\n\u001b[0;32m     15\u001b[0m \u001b[0mhello\u001b[0m\u001b[1;33m.\u001b[0m\u001b[0mpublic_method\u001b[0m\u001b[1;33m(\u001b[0m\u001b[1;33m)\u001b[0m\u001b[1;33m\u001b[0m\u001b[1;33m\u001b[0m\u001b[0m\n\u001b[1;32m---> 16\u001b[1;33m \u001b[0mhello\u001b[0m\u001b[1;33m.\u001b[0m\u001b[0m__private_method\u001b[0m\u001b[1;33m(\u001b[0m\u001b[1;33m)\u001b[0m\u001b[1;33m\u001b[0m\u001b[1;33m\u001b[0m\u001b[0m\n\u001b[0m",
      "\u001b[1;31mAttributeError\u001b[0m: 'Hello' object has no attribute '__private_method'"
     ]
    }
   ],
   "source": [
    "# how to declare private methods\n",
    "class Hello:\n",
    "    def __init__(self,name):\n",
    "        self.a=10 # public\n",
    "        self._b=20 #procted\n",
    "        self.__c=30 # private\n",
    "    def public_method(self):\n",
    "        print(self.a)\n",
    "        print(self.__c)\n",
    "        print(\"public method\")\n",
    "    def __private_method(self):\n",
    "        print(\"private method\")\n",
    "hello=Hello('name')\n",
    "print(hello._b)\n",
    "hello.public_method()\n",
    "hello.__private_method()"
   ]
  },
  {
   "cell_type": "code",
   "execution_count": 101,
   "metadata": {},
   "outputs": [
    {
     "name": "stdout",
     "output_type": "stream",
     "text": [
      "(188, 'green')\n"
     ]
    }
   ],
   "source": [
    "class car:\n",
    "    def __init__(self,speed,color):\n",
    "        self.__speed=speed\n",
    "        self.__color=color\n",
    "    def set_speed(self,speed,color):\n",
    "        self.__speed=speed\n",
    "        self.__color=color\n",
    "    def get_speed(self):\n",
    "        return self.__speed,self.__color\n",
    "    #def set_color(self,value):\n",
    "        #self.__color=value\n",
    "        #self.__color=color\n",
    "    #def get_color(self):\n",
    "      #  return self.__color\n",
    "    \n",
    "        \n",
    "audi=car(200,'red')\n",
    "BMW=car(300,'blue')\n",
    "\n",
    "audi.__speed=400\n",
    "audi.set_speed(188,'green')\n",
    "#audi.__speed=500\n",
    "\n",
    "#audi.set_color(\"yello\")\n",
    "\n",
    "#print(get_speed())\n",
    "print(audi.get_speed())\n"
   ]
  },
  {
   "cell_type": "code",
   "execution_count": null,
   "metadata": {},
   "outputs": [],
   "source": []
  }
 ],
 "metadata": {
  "kernelspec": {
   "display_name": "Python 3",
   "language": "python",
   "name": "python3"
  },
  "language_info": {
   "codemirror_mode": {
    "name": "ipython",
    "version": 3
   },
   "file_extension": ".py",
   "mimetype": "text/x-python",
   "name": "python",
   "nbconvert_exporter": "python",
   "pygments_lexer": "ipython3",
   "version": "3.7.3"
  }
 },
 "nbformat": 4,
 "nbformat_minor": 2
}
